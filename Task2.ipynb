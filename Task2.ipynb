{
  "nbformat": 4,
  "nbformat_minor": 0,
  "metadata": {
    "kernelspec": {
      "display_name": "Python 3",
      "language": "python",
      "name": "python3"
    },
    "language_info": {
      "codemirror_mode": {
        "name": "ipython",
        "version": 3
      },
      "file_extension": ".py",
      "mimetype": "text/x-python",
      "name": "python",
      "nbconvert_exporter": "python",
      "pygments_lexer": "ipython3",
      "version": "3.7.3"
    },
    "colab": {
      "name": " Task2.ipynb",
      "provenance": []
    }
  },
  "cells": [
    {
      "cell_type": "markdown",
      "metadata": {
        "id": "XsKraHMD-CA2"
      },
      "source": [
        "# List Comprehensions"
      ]
    },
    {
      "cell_type": "code",
      "metadata": {
        "colab": {
          "base_uri": "https://localhost:8080/"
        },
        "id": "eajcZBpQ95ag",
        "outputId": "6d17a460-c3a1-4542-c9c9-c49946fc9132"
      },
      "source": [
        "\n",
        "\n",
        "if __name__ == '__main__':\n",
        "    x = int(input())\n",
        "    y = int(input())\n",
        "    z = int(input())\n",
        "    n = int(input())\n",
        "    \n",
        "a = [[i, j, k] for i in range(x + 1) for j in range(y + 1) for k in range(z + 1) if i + j + k != n]\n",
        "print(a)"
      ],
      "execution_count": 2,
      "outputs": [
        {
          "output_type": "stream",
          "name": "stdout",
          "text": [
            "2\n",
            "2\n",
            "2\n",
            "2\n",
            "[[0, 0, 0], [0, 0, 1], [0, 1, 0], [0, 1, 2], [0, 2, 1], [0, 2, 2], [1, 0, 0], [1, 0, 2], [1, 1, 1], [1, 1, 2], [1, 2, 0], [1, 2, 1], [1, 2, 2], [2, 0, 1], [2, 0, 2], [2, 1, 0], [2, 1, 1], [2, 1, 2], [2, 2, 0], [2, 2, 1], [2, 2, 2]]\n"
          ]
        }
      ]
    },
    {
      "cell_type": "markdown",
      "metadata": {
        "id": "ai2rG_19-IY0"
      },
      "source": [
        "##  Find the Runner-Up Score!"
      ]
    },
    {
      "cell_type": "code",
      "metadata": {
        "id": "VWg5oawM95ai"
      },
      "source": [
        "\n",
        "\n",
        "if __name__ == '__main__':\n",
        "    n = int(input())\n",
        "    arr = map(int, input().split())\n",
        "    a= list(set(list(arr)))\n",
        "    b=sorted(a)\n",
        "    print(b[-2])"
      ],
      "execution_count": null,
      "outputs": []
    },
    {
      "cell_type": "markdown",
      "metadata": {
        "id": "8FPkHZFj-Lau"
      },
      "source": [
        "#  Nested List"
      ]
    },
    {
      "cell_type": "code",
      "metadata": {
        "id": "0OipZsY695aj"
      },
      "source": [
        "\n",
        "\n",
        "lst={}\n",
        "for _ in range(int(raw_input())):\n",
        "    name = raw_input()\n",
        "    score = float(raw_input())\n",
        "    lst[name]=score \n",
        "v=lst.values()\n",
        "second=sorted(list(set(v)))[1] \n",
        "second_lowest=[] \n",
        "for key,value in lst.items():  \n",
        "    if value==second: \n",
        "        second_lowest.append(key) \n",
        "second_lowest.sort() \n",
        "for name in second_lowest: \n",
        "    print name\n"
      ],
      "execution_count": null,
      "outputs": []
    },
    {
      "cell_type": "markdown",
      "metadata": {
        "id": "Mr0hl7IC-Yai"
      },
      "source": [
        "# Finding %"
      ]
    },
    {
      "cell_type": "code",
      "metadata": {
        "id": "c9K8DxDK95ak"
      },
      "source": [
        "\n",
        "\n",
        "if __name__ == '__main__':\n",
        "    n = int(raw_input())\n",
        "    student_marks = {}\n",
        "    for _ in range(n):\n",
        "        line = raw_input().split()\n",
        "        name, scores = line[0], line[1:]\n",
        "        scores = map(float, scores)\n",
        "        student_marks[name] = scores\n",
        "    query_name = raw_input()\n",
        "total_marks = sum(student_marks[query_name])\n",
        "average_marks = total_marks/3 \n",
        "print(\"%.2f\"%(average_marks))"
      ],
      "execution_count": null,
      "outputs": []
    },
    {
      "cell_type": "markdown",
      "metadata": {
        "id": "QOsqRTr0-aIi"
      },
      "source": [
        "#Lists"
      ]
    },
    {
      "cell_type": "code",
      "metadata": {
        "id": "GUf0e4Kw95al"
      },
      "source": [
        "\n",
        "\n",
        "if __name__ == '__main__':\n",
        "    N = int(raw_input())\n",
        "    a=\"insert\"\n",
        "    b=\"append\"\n",
        "    c=\"pop\"\n",
        "    d=\"print\"\n",
        "    e=\"remove\"\n",
        "    f=\"sort\"\n",
        "    lst=[]\n",
        "    for i in range(0,N):\n",
        "        it=raw_input().split();\n",
        "        if it[0] == a:\n",
        "            lst.insert(int(it[1]),int(it[2]))    \n",
        "        elif it[0] == b:\n",
        "            lst.append(int(it[1]))\n",
        "        elif it[0] == c:\n",
        "            lst.pop();\n",
        "        elif it[0] == d:\n",
        "            print(lst)\n",
        "        elif it[0] == e:\n",
        "            lst.remove(int(it[1]))\n",
        "        elif it[0] == f:\n",
        "            lst.sort();\n",
        "        else:\n",
        "            lst.reverse();"
      ],
      "execution_count": null,
      "outputs": []
    },
    {
      "cell_type": "markdown",
      "metadata": {
        "id": "BSLf6vnV-hka"
      },
      "source": [
        "# Tuples"
      ]
    },
    {
      "cell_type": "code",
      "metadata": {
        "id": "8MBYwcBr95am"
      },
      "source": [
        "\n",
        "\n",
        "if __name__ == '__main__':\n",
        "    n = int(raw_input())\n",
        "    integer_list = map(int, raw_input().split())\n",
        "    \n",
        "    t = tuple(integer_list)\n",
        "    print(hash(t))\n"
      ],
      "execution_count": null,
      "outputs": []
    },
    {
      "cell_type": "markdown",
      "metadata": {
        "id": "EgDZD631-kvD"
      },
      "source": [
        "# Introduction to sets"
      ]
    },
    {
      "cell_type": "code",
      "metadata": {
        "id": "ZFaqDDAk95am"
      },
      "source": [
        "\n",
        "\n",
        "def average(array):\n",
        "    return sum(set(array))/len(set(array))"
      ],
      "execution_count": null,
      "outputs": []
    },
    {
      "cell_type": "markdown",
      "metadata": {
        "id": "QgXBIsjI-npz"
      },
      "source": [
        "##  No idea"
      ]
    },
    {
      "cell_type": "code",
      "metadata": {
        "id": "HIAjLRxg95an"
      },
      "source": [
        "\n",
        "\n",
        "if __name__ == \"__main__\":\n",
        "    count = list(map(int,raw_input().strip().split()))\n",
        "    m = count[0]\n",
        "    n = count[1]\n",
        "    arr = list(map(int,raw_input().strip().split()))\n",
        "    array = set(map(int,raw_input().strip().split()))\n",
        "    array2 = set(map(int,raw_input().strip().split()))\n",
        "    p = 0\n",
        "    for i in arr:\n",
        "        if i in array : p = p + 1\n",
        "        elif i in array2 : p = p - 1\n",
        "    print p\n"
      ],
      "execution_count": null,
      "outputs": []
    },
    {
      "cell_type": "markdown",
      "metadata": {
        "id": "VYgHDw-f-qsD"
      },
      "source": [
        "#Symmetric Difference"
      ]
    },
    {
      "cell_type": "code",
      "metadata": {
        "id": "kzpW3MFo95ao"
      },
      "source": [
        "\n",
        "\n",
        "n=int(raw_input())\n",
        "ss=set(map(int,raw_input().split()))\n",
        "m=int(raw_input())\n",
        "my2=set(map(int,raw_input().split()))\n",
        "for i in sorted(ss.union(my2)):\n",
        "    if i not in ss.intersection(my2):\n",
        "        print i\n"
      ],
      "execution_count": null,
      "outputs": []
    },
    {
      "cell_type": "markdown",
      "metadata": {
        "id": "y_8WqAsP-uCv"
      },
      "source": [
        "#set.add()"
      ]
    },
    {
      "cell_type": "code",
      "metadata": {
        "id": "WtVH4jTB95aq"
      },
      "source": [
        "\n",
        "\n",
        "n = int(raw_input())\n",
        "s1 = set()\n",
        "for i in range(n):\n",
        "  s1.add(raw_input())\n",
        "print len(s1)\n"
      ],
      "execution_count": null,
      "outputs": []
    },
    {
      "cell_type": "markdown",
      "metadata": {
        "id": "HrgFAU6P-x77"
      },
      "source": [
        "# set.discard(),remove() and pop()"
      ]
    },
    {
      "cell_type": "code",
      "metadata": {
        "id": "JoIyQ5Un95ar"
      },
      "source": [
        "\n",
        "\n",
        "n = int(input())\n",
        "s = set(map(int, input().split()))\n",
        "\n",
        "ope = int(input())\n",
        "\n",
        "for x in range(ope):\n",
        "  oper = input().split()\n",
        "  if oper[0] == \"remove\":\n",
        "    s.remove(int(oper[1]))\n",
        "  elif oper[0] == \"discard\":\n",
        "    s.discard(int(oper[1]))\n",
        "  else:\n",
        "    s.pop()\n",
        "    \n",
        "print(sum(s))"
      ],
      "execution_count": null,
      "outputs": []
    },
    {
      "cell_type": "markdown",
      "metadata": {
        "id": "Cs8xlDjs-2Y7"
      },
      "source": [
        "#set.union() operation"
      ]
    },
    {
      "cell_type": "code",
      "metadata": {
        "id": "xu8hj1i595as"
      },
      "source": [
        "\n",
        "\n",
        "s1 = set()\n",
        "s2 = set()\n",
        "n = raw_input()\n",
        "for i in raw_input().split(' '):\n",
        "  s1.add(i)\n",
        "m = raw_input()\n",
        "for i in raw_input().split(' '):\n",
        "  s2.add(i)\n",
        "res = s1.union(s2)\n",
        "print len(res)"
      ],
      "execution_count": null,
      "outputs": []
    },
    {
      "cell_type": "markdown",
      "metadata": {
        "id": "KT9b1Iy8-6ZE"
      },
      "source": [
        "#set.intersection() operation"
      ]
    },
    {
      "cell_type": "code",
      "metadata": {
        "id": "1SwfNVuT95as"
      },
      "source": [
        "\n",
        "\n",
        "s1 = set()\n",
        "s2 = set()\n",
        "n = raw_input()\n",
        "for i in raw_input().split(' '):\n",
        "  s1.add(i)\n",
        "m = raw_input()\n",
        "for i in raw_input().split(' '):\n",
        "  s2.add(i)\n",
        "res = s1.intersection(s2)\n",
        "print len(res)"
      ],
      "execution_count": null,
      "outputs": []
    },
    {
      "cell_type": "markdown",
      "metadata": {
        "id": "CVostKJH-_N0"
      },
      "source": [
        "#set.difference()"
      ]
    },
    {
      "cell_type": "code",
      "metadata": {
        "id": "LIKYPAfA95at"
      },
      "source": [
        "\n",
        "\n",
        "s1 = set()\n",
        "s2 = set()\n",
        "n = raw_input()\n",
        "for i in raw_input().split(' '):\n",
        "  s1.add(i)\n",
        "m = raw_input()\n",
        "for i in raw_input().split(' '):\n",
        "  s2.add(i)\n",
        "res = s1.difference(s2)\n",
        "print len(res)"
      ],
      "execution_count": null,
      "outputs": []
    },
    {
      "cell_type": "markdown",
      "metadata": {
        "id": "USy6yFTA_Eea"
      },
      "source": [
        "\n",
        "#15"
      ]
    },
    {
      "cell_type": "code",
      "metadata": {
        "id": "y3-G2BxD95at"
      },
      "source": [
        "\n",
        "\n",
        "s1 = set()\n",
        "s2 = set()\n",
        "n = raw_input()\n",
        "for i in raw_input().split(' '):\n",
        "  s1.add(i)\n",
        "m = raw_input()\n",
        "for i in raw_input().split(' '):\n",
        "  s2.add(i)\n",
        "res = s1.symmetric_difference(s2)\n",
        "print len(res)"
      ],
      "execution_count": null,
      "outputs": []
    },
    {
      "cell_type": "markdown",
      "metadata": {
        "id": "Ud35rVRU_JTh"
      },
      "source": [
        "#Set mutation"
      ]
    },
    {
      "cell_type": "code",
      "metadata": {
        "id": "FZ0hnTlM95au"
      },
      "source": [
        "\n",
        "\n",
        "l=int(raw_input())\n",
        "s=set(map(int, raw_input().split()))\n",
        "n=int(raw_input())\n",
        "\n",
        "for i in range(n):\n",
        "    (p, q)=raw_input().split()\n",
        "    s2=set(map(int, raw_input().split()))\n",
        "    if p==\"intersection_update\":\n",
        "        s.intersection_update(s2)\n",
        "    elif p==\"update\":\n",
        "        s.update(s2)\n",
        "    elif p==\"symmetric_difference_update\":\n",
        "        s.symmetric_difference_update(s2)\n",
        "    elif p==\"difference_update\":\n",
        "        s.difference_update(s2)\n",
        "print sum(s)"
      ],
      "execution_count": null,
      "outputs": []
    },
    {
      "cell_type": "markdown",
      "metadata": {
        "id": "kjestSuS_MZr"
      },
      "source": [
        "#The captain's room"
      ]
    },
    {
      "cell_type": "code",
      "metadata": {
        "id": "psOH5qDE95au"
      },
      "source": [
        "\n",
        "\n",
        "k = int(raw_input())\n",
        "rnum_list = list(map(int, raw_input().split()))\n",
        "num= (sum(set(rnum_list)) * k - sum(rnum_list)) // (k - 1)\n",
        "print(num)  "
      ],
      "execution_count": null,
      "outputs": []
    },
    {
      "cell_type": "markdown",
      "metadata": {
        "id": "M6rj7MpS_Q0m"
      },
      "source": [
        "#Check subset"
      ]
    },
    {
      "cell_type": "code",
      "metadata": {
        "id": "g4nXWvj095au"
      },
      "source": [
        "\n",
        "\n",
        "n = int(raw_input())\n",
        "\n",
        "for i in range(n):\n",
        "    a = raw_input()\n",
        "    s1= set(raw_input().split())\n",
        "    \n",
        "    b = int(raw_input())\n",
        "    s2 = set(raw_input().split())\n",
        "    print(s1.issubset(s2))"
      ],
      "execution_count": null,
      "outputs": []
    },
    {
      "cell_type": "markdown",
      "metadata": {
        "id": "2iCyoM94_T17"
      },
      "source": [
        "#Check Strict Superset"
      ]
    },
    {
      "cell_type": "code",
      "metadata": {
        "id": "rKdsWW3K95av"
      },
      "source": [
        "\n",
        "\n",
        "\n",
        "s= set(raw_input().split())\n",
        "n = int(raw_input())\n",
        "ot = True\n",
        "\n",
        "for i in range(n):\n",
        "    s1 = set(raw_input().split())\n",
        "    if not s1.issubset(s):\n",
        "        ot = False\n",
        "    if len(s1) >= len(s):\n",
        "        ot = False\n",
        "\n",
        "print(ot)"
      ],
      "execution_count": null,
      "outputs": []
    }
  ]
}