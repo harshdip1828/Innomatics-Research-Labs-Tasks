{
  "nbformat": 4,
  "nbformat_minor": 0,
  "metadata": {
    "kernelspec": {
      "display_name": "Python 3",
      "language": "python",
      "name": "python3"
    },
    "language_info": {
      "codemirror_mode": {
        "name": "ipython",
        "version": 3
      },
      "file_extension": ".py",
      "mimetype": "text/x-python",
      "name": "python",
      "nbconvert_exporter": "python",
      "pygments_lexer": "ipython3",
      "version": "3.7.3"
    },
    "colab": {
      "name": "InnomaticsTask_3.ipynb",
      "provenance": []
    }
  },
  "cells": [
    {
      "cell_type": "markdown",
      "metadata": {
        "id": "mwo9GknXJ_SI"
      },
      "source": [
        "#Polar Quardinates"
      ]
    },
    {
      "cell_type": "code",
      "metadata": {
        "colab": {
          "base_uri": "https://localhost:8080/"
        },
        "id": "moZE2LU5JUUy",
        "outputId": "0f57bc09-dde0-4cb1-b7ef-9fc5f9dc74b0"
      },
      "source": [
        "\n",
        "\n",
        "import cmath\n",
        "\n",
        "if __name__ == \"__main__\":\n",
        "    cnum = complex(input().strip())\n",
        "    \n",
        "    print(abs(cnum))\n",
        "    print(cmath.phase(cnum))"
      ],
      "execution_count": 2,
      "outputs": [
        {
          "output_type": "stream",
          "name": "stdout",
          "text": [
            "1+3j\n",
            "3.1622776601683795\n",
            "1.2490457723982544\n"
          ]
        }
      ]
    },
    {
      "cell_type": "markdown",
      "metadata": {
        "id": "j6eYQz6-KQNv"
      },
      "source": [
        "#Find angle MBC"
      ]
    },
    {
      "cell_type": "code",
      "metadata": {
        "colab": {
          "base_uri": "https://localhost:8080/"
        },
        "id": "_RwtbG7pJUU7",
        "outputId": "b7de6073-3e33-484f-bad4-2f5e17171f00"
      },
      "source": [
        "\n",
        "\n",
        "import math\n",
        "AB,BC=int(input()),int(input())\n",
        "hype=math.hypot(AB,BC)                      \n",
        "res=round(math.degrees(math.acos(BC/hype))) \n",
        "degree=chr(176)                                \n",
        "print(res,degree, sep='')"
      ],
      "execution_count": 3,
      "outputs": [
        {
          "output_type": "stream",
          "name": "stdout",
          "text": [
            "20\n",
            "20\n",
            "45°\n"
          ]
        }
      ]
    },
    {
      "cell_type": "markdown",
      "metadata": {
        "id": "kKTMCCq-KT4W"
      },
      "source": [
        "#Triangle Quest 2"
      ]
    },
    {
      "cell_type": "code",
      "metadata": {
        "colab": {
          "base_uri": "https://localhost:8080/"
        },
        "id": "hLEHqssNJUU9",
        "outputId": "04ecbf0d-cb70-411a-d84b-63f8cfad05e1"
      },
      "source": [
        "\n",
        "\n",
        "for i in range(1,int(input())+1): \n",
        "    print((10**i//9)**2)"
      ],
      "execution_count": 6,
      "outputs": [
        {
          "output_type": "stream",
          "name": "stdout",
          "text": [
            "3\n",
            "1\n",
            "121\n",
            "12321\n"
          ]
        }
      ]
    },
    {
      "cell_type": "markdown",
      "metadata": {
        "id": "y1xAbtJRK0gG"
      },
      "source": [
        "#Mod Divmod"
      ]
    },
    {
      "cell_type": "code",
      "metadata": {
        "colab": {
          "base_uri": "https://localhost:8080/"
        },
        "id": "HEUofHnWJUU-",
        "outputId": "9d80833d-77c9-4215-9d9d-c55ea7133a60"
      },
      "source": [
        "\n",
        "\n",
        "from __future__ import division\n",
        "a,b=int(input().strip()), int(input().strip())\n",
        "d=divmod(a,b)\n",
        "print(d[0])\n",
        "print(d[1])\n",
        "print(d)"
      ],
      "execution_count": 11,
      "outputs": [
        {
          "output_type": "stream",
          "name": "stdout",
          "text": [
            "177\n",
            "10\n",
            "17\n",
            "7\n",
            "(17, 7)\n"
          ]
        }
      ]
    },
    {
      "cell_type": "markdown",
      "metadata": {
        "id": "tpVn6R7VLDu3"
      },
      "source": [
        "#Power Mod power"
      ]
    },
    {
      "cell_type": "code",
      "metadata": {
        "colab": {
          "base_uri": "https://localhost:8080/"
        },
        "id": "bpNIxQotJUVA",
        "outputId": "494b1fa1-1acb-402f-b744-7ca9491af83c"
      },
      "source": [
        "\n",
        "\n",
        "a = int(input())\n",
        "b = int(input())\n",
        "c = int(input())\n",
        "\n",
        "print(a**b)\n",
        "\n",
        "print(pow(a,b,c))"
      ],
      "execution_count": 12,
      "outputs": [
        {
          "output_type": "stream",
          "name": "stdout",
          "text": [
            "2\n",
            "3\n",
            "2\n",
            "8\n",
            "0\n"
          ]
        }
      ]
    },
    {
      "cell_type": "markdown",
      "metadata": {
        "id": "ag44eN2ULKU3"
      },
      "source": [
        "#Integer comes in all size"
      ]
    },
    {
      "cell_type": "code",
      "metadata": {
        "colab": {
          "base_uri": "https://localhost:8080/"
        },
        "id": "9YSnTwjeJUVC",
        "outputId": "96544b21-766f-4aff-c49b-92ba0aa736ac"
      },
      "source": [
        "\n",
        "\n",
        "if __name__ == \"__main__\":\n",
        "    a = int(input())\n",
        "    b = int(input())\n",
        "    c = int(input())\n",
        "    d = int(input())\n",
        "    \n",
        "    z=pow(a,b)\n",
        "    w=pow(c,d)\n",
        "    \n",
        "    print(z+w)\n"
      ],
      "execution_count": 13,
      "outputs": [
        {
          "output_type": "stream",
          "name": "stdout",
          "text": [
            "2\n",
            "3\n",
            "3\n",
            "1\n",
            "11\n"
          ]
        }
      ]
    },
    {
      "cell_type": "markdown",
      "metadata": {
        "id": "MKEUvPnLMDtv"
      },
      "source": [
        "#Traingle Quest"
      ]
    },
    {
      "cell_type": "code",
      "metadata": {
        "colab": {
          "base_uri": "https://localhost:8080/"
        },
        "id": "3YCjqc9eJUVD",
        "outputId": "ff143304-9e0d-44f4-9d1b-7b1041468dee"
      },
      "source": [
        "\n",
        "\n",
        "for i in range(1,int(input())): \n",
        "     print((5*2)**i//9 * i)"
      ],
      "execution_count": 15,
      "outputs": [
        {
          "output_type": "stream",
          "name": "stdout",
          "text": [
            "7\n",
            "1\n",
            "22\n",
            "333\n",
            "4444\n",
            "55555\n",
            "666666\n"
          ]
        }
      ]
    }
  ]
}