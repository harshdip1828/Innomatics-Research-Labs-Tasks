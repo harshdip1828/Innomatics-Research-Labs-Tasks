{
  "nbformat": 4,
  "nbformat_minor": 0,
  "metadata": {
    "colab": {
      "name": "Task 1 .ipynb",
      "provenance": []
    },
    "kernelspec": {
      "name": "python3",
      "display_name": "Python 3"
    },
    "language_info": {
      "name": "python"
    }
  },
  "cells": [
    {
      "cell_type": "markdown",
      "metadata": {
        "id": "0H3UYgHygg0M"
      },
      "source": [
        "#Say \"Hello, World!\" With Python"
      ]
    },
    {
      "cell_type": "code",
      "metadata": {
        "colab": {
          "base_uri": "https://localhost:8080/"
        },
        "id": "uUV9NKI_gVuk",
        "outputId": "9a392685-3109-433f-f6d7-92d7a19812aa"
      },
      "source": [
        "if __name__ == '__main__':\n",
        "  print(\"Hello, World!\")"
      ],
      "execution_count": 6,
      "outputs": [
        {
          "output_type": "stream",
          "name": "stdout",
          "text": [
            "Hello, World!\n"
          ]
        }
      ]
    },
    {
      "cell_type": "markdown",
      "metadata": {
        "id": "AbJFT07JhR90"
      },
      "source": [
        "#Python If-Else\n",
        "Given an integer, n, perform the following conditional actions:\n",
        "If n  is odd, print Weird\n",
        "If n is even and in the inclusive range of 2 to 5 , print Not Weird\n",
        "If n is even and in the inclusive range of 6 to 20 , print Weird\n",
        "If n  is even and greater than 20, print Not Weird"
      ]
    },
    {
      "cell_type": "code",
      "metadata": {
        "colab": {
          "base_uri": "https://localhost:8080/"
        },
        "id": "s9FaE3sJipTM",
        "outputId": "2b16377e-a94f-4dd5-befd-afceb3f45a91"
      },
      "source": [
        "import math\n",
        "import os\n",
        "import random\n",
        "import re\n",
        "import sys\n",
        "def hd(i):\n",
        "    if(i % 2 != 0):\n",
        "        print('Weird')\n",
        "        \n",
        "    elif(i % 2 == 0 and i in range(2, 6)):\n",
        "        print('Not Weird')\n",
        "\n",
        "    elif(i % 2 == 0 and i in range(6, 21)):\n",
        "        print('Weird')\n",
        "    \n",
        "    elif(i % 2 == 0 and i > 20):\n",
        "        print('Not Weird')\n",
        "        \n",
        "    else:\n",
        "        pass\n",
        "    \n",
        "if __name__ == '__main__':\n",
        "  i = int(input().strip())\n",
        "\n",
        "  hd(i)"
      ],
      "execution_count": 13,
      "outputs": [
        {
          "output_type": "stream",
          "name": "stdout",
          "text": [
            "22\n",
            "Not Weird\n"
          ]
        }
      ]
    },
    {
      "cell_type": "markdown",
      "metadata": {
        "id": "4rRjCatmjt0k"
      },
      "source": [
        "#Arithmetic Operators\n",
        "The provided code stub reads two integers from STDIN, a and b . Add code to print three lines where:\n",
        "\n",
        "The first line contains the sum of the two numbers.\n",
        "The second line contains the difference of the two numbers (first - second).\n",
        "The third line contains the product of the two numbers."
      ]
    },
    {
      "cell_type": "code",
      "metadata": {
        "colab": {
          "base_uri": "https://localhost:8080/"
        },
        "id": "h2lhJFecjVCS",
        "outputId": "a36f5a1a-f68b-49a1-fec3-7d13bd85a7ac"
      },
      "source": [
        "if __name__ == '__main__':\n",
        "    a = int(input())\n",
        "    b = int(input())\n",
        "    print('sum of two numbers ',a + b)\n",
        "    print('difference of two numbers is ',a - b)\n",
        "    print('product of two numbers ',a * b)\n"
      ],
      "execution_count": 16,
      "outputs": [
        {
          "output_type": "stream",
          "name": "stdout",
          "text": [
            "1\n",
            "1\n",
            "sum of two numbers  2\n",
            "difference of two numbers is  0\n",
            "product of two numbers  1\n"
          ]
        }
      ]
    },
    {
      "cell_type": "markdown",
      "metadata": {
        "id": "TRkmeR6gktDm"
      },
      "source": [
        "#Python: Division"
      ]
    },
    {
      "cell_type": "code",
      "metadata": {
        "colab": {
          "base_uri": "https://localhost:8080/"
        },
        "id": "9mGJrqcEkHcT",
        "outputId": "7763b01a-4150-4e5f-cfcd-cbfb58772d8a"
      },
      "source": [
        "if __name__ == '__main__':\n",
        "    a = int(input())\n",
        "    b = int(input())\n",
        "    print(a//b)\n",
        "    print(a/b)"
      ],
      "execution_count": 17,
      "outputs": [
        {
          "output_type": "stream",
          "name": "stdout",
          "text": [
            "2\n",
            "4\n",
            "0\n",
            "0.5\n"
          ]
        }
      ]
    },
    {
      "cell_type": "markdown",
      "metadata": {
        "id": "QRFVF-29l9DE"
      },
      "source": [
        "#Loops\n",
        "The list of non-negative integers that are less than n=3 is[0,1,2] . Print the square of each number on a separate line.\n",
        "\n",
        "output = 0,1,4"
      ]
    },
    {
      "cell_type": "code",
      "metadata": {
        "colab": {
          "base_uri": "https://localhost:8080/"
        },
        "id": "IBeg0gvMl8Tc",
        "outputId": "062da3c5-e3cc-496e-fdf8-e1458551b99c"
      },
      "source": [
        "if __name__ == '__main__':\n",
        "    n = int(input())\n",
        "\n",
        "    for i in range(n):\n",
        "       print (i**2)"
      ],
      "execution_count": 23,
      "outputs": [
        {
          "output_type": "stream",
          "name": "stdout",
          "text": [
            "3\n",
            "0\n",
            "1\n",
            "4\n"
          ]
        }
      ]
    },
    {
      "cell_type": "markdown",
      "metadata": {
        "id": "QvZoNaLcnwl8"
      },
      "source": [
        "#Write a function"
      ]
    },
    {
      "cell_type": "code",
      "metadata": {
        "colab": {
          "base_uri": "https://localhost:8080/"
        },
        "id": "XmL91fZFp7zh",
        "outputId": "b37aab18-64cf-4a78-f114-7fca13261657"
      },
      "source": [
        "def is_leap(year):\n",
        "    leap = False\n",
        "    \n",
        "    # Write your logic here\n",
        "    if year % 400 == 0:\n",
        "        leap = True\n",
        "    elif year % 100 == 0:\n",
        "        leap = False\n",
        "    elif year % 4 == 0:\n",
        "        leap = True\n",
        "    \n",
        "    return leap\n",
        "    \n",
        "year = int(input())\n",
        "print(is_leap(year))"
      ],
      "execution_count": 35,
      "outputs": [
        {
          "output_type": "stream",
          "name": "stdout",
          "text": [
            "1990\n",
            "False\n"
          ]
        }
      ]
    },
    {
      "cell_type": "markdown",
      "metadata": {
        "id": "gQ08H_PpppzN"
      },
      "source": [
        "#Print Function"
      ]
    },
    {
      "cell_type": "code",
      "metadata": {
        "colab": {
          "base_uri": "https://localhost:8080/"
        },
        "id": "5I8eg9UMqDVN",
        "outputId": "08ff9e90-6e8a-4ea8-8b6e-b38f58e05390"
      },
      "source": [
        "from __future__ import print_function\n",
        "\n",
        "if __name__ == '__main__':\n",
        "    n = int(input())\n",
        "       \n",
        "    for  i in range(n):\n",
        "        print(i+1,end = \"\")"
      ],
      "execution_count": 38,
      "outputs": [
        {
          "output_type": "stream",
          "name": "stdout",
          "text": [
            "4\n",
            "1234"
          ]
        }
      ]
    }
  ]
}