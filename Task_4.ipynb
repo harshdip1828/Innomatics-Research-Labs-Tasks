{
  "nbformat": 4,
  "nbformat_minor": 0,
  "metadata": {
    "colab": {
      "name": "Task 4.ipynb",
      "provenance": []
    },
    "kernelspec": {
      "name": "python3",
      "display_name": "Python 3"
    },
    "language_info": {
      "name": "python"
    }
  },
  "cells": [
    {
      "cell_type": "markdown",
      "metadata": {
        "id": "2bPLBYRDyXXp"
      },
      "source": [
        "#swapcase"
      ]
    },
    {
      "cell_type": "code",
      "metadata": {
        "colab": {
          "base_uri": "https://localhost:8080/"
        },
        "id": "uQoWEsG7vWjp",
        "outputId": "20c02bba-3692-4d42-ea19-b0abda807c29"
      },
      "source": [
        "def swap_case(s):\n",
        "    return s.swapcase()\n",
        "\n",
        "if __name__ == '__main__':\n",
        "    s = input()\n",
        "    result = swap_case(s)\n",
        "    print(result)"
      ],
      "execution_count": 1,
      "outputs": [
        {
          "output_type": "stream",
          "name": "stdout",
          "text": [
            "Harshdip\n",
            "hARSHDIP\n"
          ]
        }
      ]
    },
    {
      "cell_type": "markdown",
      "metadata": {
        "id": "YagVEamKyRHg"
      },
      "source": [
        "#String Split and Join"
      ]
    },
    {
      "cell_type": "code",
      "metadata": {
        "colab": {
          "base_uri": "https://localhost:8080/"
        },
        "id": "VkShKlxmyJ9y",
        "outputId": "3258b007-a170-4c34-8370-ae1a3b170d3b"
      },
      "source": [
        "def split_and_join(line):\n",
        "    # write your code here\n",
        "    a = line.split(\" \")\n",
        "   \n",
        "    a=\"-\".join(a)\n",
        "    return a\n",
        "if __name__ == '__main__':\n",
        "    line = input()\n",
        "    result = split_and_join(line)\n",
        "    print(result)"
      ],
      "execution_count": 2,
      "outputs": [
        {
          "output_type": "stream",
          "name": "stdout",
          "text": [
            "this is test\n",
            "this-is-test\n"
          ]
        }
      ]
    },
    {
      "cell_type": "markdown",
      "metadata": {
        "id": "bkGNRxR7yZfo"
      },
      "source": [
        "#What's Your Name?"
      ]
    },
    {
      "cell_type": "code",
      "metadata": {
        "id": "KvSy9cOhygnq"
      },
      "source": [
        ""
      ],
      "execution_count": null,
      "outputs": []
    },
    {
      "cell_type": "markdown",
      "metadata": {
        "id": "nxw0QdrG0_HS"
      },
      "source": [
        "#Mutations"
      ]
    },
    {
      "cell_type": "code",
      "metadata": {
        "colab": {
          "base_uri": "https://localhost:8080/"
        },
        "id": "b097l4XQ0_lZ",
        "outputId": "69bca987-d7f8-4e48-a91f-64d1d284d573"
      },
      "source": [
        "def mutate_string(string, position, character):\n",
        "    pos = position+1\n",
        "    Output = string[:position]+character+string[pos:]    \n",
        "\n",
        "    \n",
        "    return Output\n",
        "\n",
        "if __name__ == '__main__':\n",
        "    s = input()\n",
        "    i, c = input().split()\n",
        "    s_new = mutate_string(s, int(i), c)\n",
        "    print(s_new)"
      ],
      "execution_count": 7,
      "outputs": [
        {
          "output_type": "stream",
          "name": "stdout",
          "text": [
            "abracadabra\n",
            " 5 k\n",
            "abrackdabra\n"
          ]
        }
      ]
    },
    {
      "cell_type": "markdown",
      "metadata": {
        "id": "8RSOw35L1Eny"
      },
      "source": [
        "#Find a string"
      ]
    },
    {
      "cell_type": "code",
      "metadata": {
        "colab": {
          "base_uri": "https://localhost:8080/"
        },
        "id": "B7-bGhqQ1KlJ",
        "outputId": "56668385-ef11-4a45-d391-b49c00fe1779"
      },
      "source": [
        "def count_substring(string, sub_string):\n",
        "    count = 0\n",
        "    for i in range(len(string)-len(sub_string)+1):\n",
        "        if (string[i:i+len(sub_string)] == sub_string):\n",
        "            count += 1\n",
        "    return count\n",
        "\n",
        "if __name__ == '__main__':\n",
        "    string = input().strip()\n",
        "    sub_string = input().strip()\n",
        "    \n",
        "    count = count_substring(string, sub_string)\n",
        "    print(count)"
      ],
      "execution_count": 3,
      "outputs": [
        {
          "output_type": "stream",
          "name": "stdout",
          "text": [
            "rtgf\n",
            "gfv\n",
            "0\n"
          ]
        }
      ]
    },
    {
      "cell_type": "markdown",
      "metadata": {
        "id": "3iscdO6J3FiL"
      },
      "source": [
        "#Text Alignment"
      ]
    },
    {
      "cell_type": "code",
      "metadata": {
        "colab": {
          "base_uri": "https://localhost:8080/"
        },
        "id": "tIW7vQBX4guq",
        "outputId": "dc5f35a5-d2a6-42ff-92d0-c1b0d38553a6"
      },
      "source": [
        "thickness = int(input()) #This must be an odd number\n",
        "c = 'H'\n",
        "\n",
        "#Top Cone\n",
        "for i in range(thickness):\n",
        "    print((c*i).rjust(thickness-1)+c+(c*i).ljust(thickness-1))\n",
        "\n",
        "#Top Pillars\n",
        "for i in range(thickness+1):\n",
        "    print((c*thickness).center(thickness*2)+(c*thickness).center(thickness*6))\n",
        "\n",
        "#Middle Belt\n",
        "for i in range((thickness+1)//2):\n",
        "    print((c*thickness*5).center(thickness*6))    \n",
        "\n",
        "#Bottom Pillars\n",
        "for i in range(thickness+1):\n",
        "    print((c*thickness).center(thickness*2)+(c*thickness).center(thickness*6))    \n",
        "\n",
        "#Bottom Cone\n",
        "for i in range(thickness):\n",
        "    print(((c*(thickness-i-1)).rjust(thickness)+c+(c*(thickness-i-1)).ljust(thickness)).rjust(thickness*6))"
      ],
      "execution_count": 8,
      "outputs": [
        {
          "output_type": "stream",
          "name": "stdout",
          "text": [
            "4\n",
            "   H   \n",
            "  HHH  \n",
            " HHHHH \n",
            "HHHHHHH\n",
            "  HHHH            HHHH          \n",
            "  HHHH            HHHH          \n",
            "  HHHH            HHHH          \n",
            "  HHHH            HHHH          \n",
            "  HHHH            HHHH          \n",
            "  HHHHHHHHHHHHHHHHHHHH  \n",
            "  HHHHHHHHHHHHHHHHHHHH  \n",
            "  HHHH            HHHH          \n",
            "  HHHH            HHHH          \n",
            "  HHHH            HHHH          \n",
            "  HHHH            HHHH          \n",
            "  HHHH            HHHH          \n",
            "                HHHHHHH \n",
            "                 HHHHH  \n",
            "                  HHH   \n",
            "                   H    \n"
          ]
        }
      ]
    },
    {
      "cell_type": "markdown",
      "metadata": {
        "id": "xHMSZwGz4o7y"
      },
      "source": [
        "#Text Wrap"
      ]
    },
    {
      "cell_type": "code",
      "metadata": {
        "colab": {
          "base_uri": "https://localhost:8080/"
        },
        "id": "PJW6tt_z43Sj",
        "outputId": "3677444b-e829-40d3-d8f4-92cabf11f4c3"
      },
      "source": [
        "import textwrap\n",
        "\n",
        "def wrap(string, max_width):\n",
        "    \n",
        "    return textwrap.fill(string,max_width)\n",
        "\n",
        "if __name__ == '__main__':\n",
        "    string, max_width = input(), int(input())\n",
        "    result = wrap(string, max_width)\n",
        "    print(result)"
      ],
      "execution_count": 9,
      "outputs": [
        {
          "output_type": "stream",
          "name": "stdout",
          "text": [
            "harsd\n",
            "2\n",
            "ha\n",
            "rs\n",
            "d\n"
          ]
        }
      ]
    },
    {
      "cell_type": "markdown",
      "metadata": {
        "id": "37QrlncK5L3S"
      },
      "source": [
        "#Designer Door Mat"
      ]
    },
    {
      "cell_type": "code",
      "metadata": {
        "colab": {
          "base_uri": "https://localhost:8080/"
        },
        "id": "40dwhuad6BMT",
        "outputId": "3f61d368-6b7c-4f0d-8324-2aceb9638df9"
      },
      "source": [
        "N,M = map(int,input().split())\n",
        "c = \".|.\"\n",
        "for i in range(N//2):\n",
        "    print((c*((i*2)+1)).center(M, '-'))\n",
        "print(('WELCOME'.center(M,'-')))\n",
        "for j in range(N//2):\n",
        "    print((c*((N-(j*2))-2)).center(M, '-'))"
      ],
      "execution_count": 11,
      "outputs": [
        {
          "output_type": "stream",
          "name": "stdout",
          "text": [
            " 2 16\n",
            "------.|.-------\n",
            "----WELCOME-----\n",
            "----------------\n"
          ]
        }
      ]
    },
    {
      "cell_type": "markdown",
      "metadata": {
        "id": "LKMkrTiq6M2j"
      },
      "source": [
        "#String Formatting"
      ]
    },
    {
      "cell_type": "code",
      "metadata": {
        "colab": {
          "base_uri": "https://localhost:8080/"
        },
        "id": "bbOWG6ld6X8x",
        "outputId": "09c6bd7a-2f00-4a9a-8cd3-d2af1efdc657"
      },
      "source": [
        "def print_formatted(number):\n",
        "    # your code goes here\n",
        "    l1 = len(bin(number)[2:])\n",
        "   \n",
        "    for i in range(1,number+1):\n",
        "        print(str(i).rjust(l1,' '),end=\" \")\n",
        "        print(oct(i)[2:].rjust(l1,' '),end=\" \")\n",
        "        print(((hex(i)[2:]).upper()).rjust(l1,' '),end=\" \")\n",
        "        print(bin(i)[2:].rjust(l1,' '),end=\" \")\n",
        "        print(\"\")\n",
        "if __name__ == '__main__':\n",
        "    n = int(input())\n",
        "    print_formatted(n)"
      ],
      "execution_count": 12,
      "outputs": [
        {
          "output_type": "stream",
          "name": "stdout",
          "text": [
            "14\n",
            "   1    1    1    1 \n",
            "   2    2    2   10 \n",
            "   3    3    3   11 \n",
            "   4    4    4  100 \n",
            "   5    5    5  101 \n",
            "   6    6    6  110 \n",
            "   7    7    7  111 \n",
            "   8   10    8 1000 \n",
            "   9   11    9 1001 \n",
            "  10   12    A 1010 \n",
            "  11   13    B 1011 \n",
            "  12   14    C 1100 \n",
            "  13   15    D 1101 \n",
            "  14   16    E 1110 \n"
          ]
        }
      ]
    },
    {
      "cell_type": "markdown",
      "metadata": {
        "id": "CBseB6306wWE"
      },
      "source": [
        "#Alphabet Rangoli"
      ]
    },
    {
      "cell_type": "code",
      "metadata": {
        "colab": {
          "base_uri": "https://localhost:8080/"
        },
        "id": "FacQCqhh61x6",
        "outputId": "612d7f27-1285-4940-b938-4472c5f8537b"
      },
      "source": [
        "def print_rangoli(size):\n",
        "    # your code goes here\n",
        "    width  = size*4-3\n",
        "    string = ''\n",
        "\n",
        "    for i in range(1,size+1):\n",
        "        for j in range(0,i):\n",
        "            string += chr(96+size-j)\n",
        "            if len(string) < width :\n",
        "                string += '-'\n",
        "        for k in range(i-1,0,-1):    \n",
        "            string += chr(97+size-k)\n",
        "            if len(string) < width :\n",
        "                string += '-'\n",
        "        print(string.center(width,'-'))\n",
        "        string = ''\n",
        "\n",
        "    for i in range(size-1,0,-1):\n",
        "        string = ''\n",
        "        for j in range(0,i):\n",
        "            string += chr(96+size-j)\n",
        "            if len(string) < width :\n",
        "                string += '-'\n",
        "        for k in range(i-1,0,-1):\n",
        "            string += chr(97+size-k)\n",
        "            if len(string) < width :\n",
        "                string += '-'\n",
        "        print(string.center(width,'-'))\n",
        "        \n",
        "if __name__ == '__main__':\n",
        "    n = int(input())\n",
        "    print_rangoli(n)"
      ],
      "execution_count": 14,
      "outputs": [
        {
          "output_type": "stream",
          "name": "stdout",
          "text": [
            "5\n",
            "--------e--------\n",
            "------e-d-e------\n",
            "----e-d-c-d-e----\n",
            "--e-d-c-b-c-d-e--\n",
            "e-d-c-b-a-b-c-d-e\n",
            "--e-d-c-b-c-d-e--\n",
            "----e-d-c-d-e----\n",
            "------e-d-e------\n",
            "--------e--------\n"
          ]
        }
      ]
    },
    {
      "cell_type": "markdown",
      "metadata": {
        "id": "7NvDAbOH7RqC"
      },
      "source": [
        "#Capitalize!"
      ]
    },
    {
      "cell_type": "code",
      "metadata": {
        "id": "by4yuI4o8Qcn"
      },
      "source": [
        "\n",
        "def solve(s):\n",
        "    for i in s.split():\n",
        "        s = s.replace(i,i.capitalize())\n",
        "    return s\n",
        "if __name__ == '__main__':\n",
        "    fptr = open(os.environ['OUTPUT_PATH'], 'w')\n",
        "\n",
        "    s = input()\n",
        "\n",
        "    result = solve(s)\n",
        "\n",
        "    fptr.write(result + '\\n')\n",
        "\n",
        "    fptr.close()"
      ],
      "execution_count": null,
      "outputs": []
    },
    {
      "cell_type": "markdown",
      "metadata": {
        "id": "zusRYAG08czs"
      },
      "source": [
        "#The Minion Game"
      ]
    },
    {
      "cell_type": "code",
      "metadata": {
        "colab": {
          "base_uri": "https://localhost:8080/"
        },
        "id": "nooDeZsi8e9a",
        "outputId": "ee61d702-57f3-40b3-f39e-72a4690dddc3"
      },
      "source": [
        "def minion_game(string):\n",
        "    player1 = 0;\n",
        "    player2 = 0;\n",
        "    str_len = len(string)\n",
        "    for i in range(str_len):\n",
        "        if s[i] in \"AEIOU\":\n",
        "            player1 += (str_len)-i\n",
        "        else :\n",
        "            player2 += (str_len)-i\n",
        "    \n",
        "    if player1 > player2:\n",
        "        print(\"Kevin\", player1)\n",
        "    elif player1 < player2:\n",
        "        print(\"Stuart\",player2)\n",
        "    elif player1 == player2:\n",
        "        print(\"Draw\")\n",
        "    else :\n",
        "        print(\"Draw\")\n",
        "    # your code goes here\n",
        "\n",
        "if __name__ == '__main__':\n",
        "    s = input()\n",
        "    minion_game(s)"
      ],
      "execution_count": 20,
      "outputs": [
        {
          "output_type": "stream",
          "name": "stdout",
          "text": [
            "BANANA\n",
            "Stuart 12\n"
          ]
        }
      ]
    },
    {
      "cell_type": "markdown",
      "metadata": {
        "id": "HAA252HP87rq"
      },
      "source": [
        "#Merge the Tools!"
      ]
    },
    {
      "cell_type": "code",
      "metadata": {
        "colab": {
          "base_uri": "https://localhost:8080/"
        },
        "id": "27N0TBo89CEV",
        "outputId": "39f24110-9fcb-4762-d86d-b90db7aa9cf5"
      },
      "source": [
        "def merge_the_tools(string, k):\n",
        "    for i in range(0,len(string), k):\n",
        "        #slice string upto k characters\n",
        "        line = string[i:i+k]\n",
        "        seen = set()\n",
        "        for i in line:\n",
        "            #only print if we haven't already seen this character\n",
        "            if i not in seen:\n",
        "                print(i,end=\"\")\n",
        "                seen.add(i)\n",
        "        #prints a new line\n",
        "        print()\n",
        "    # your code goes here\n",
        "\n",
        "if __name__ == '__main__':\n",
        "    string, k = input(), int(input())\n",
        "    merge_the_tools(string, k)"
      ],
      "execution_count": 21,
      "outputs": [
        {
          "output_type": "stream",
          "name": "stdout",
          "text": [
            "sa 3\n",
            "3\n",
            "sa \n",
            "3\n"
          ]
        }
      ]
    }
  ]
}